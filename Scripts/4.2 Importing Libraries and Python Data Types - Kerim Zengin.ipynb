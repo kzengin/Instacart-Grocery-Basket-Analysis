{
 "cells": [
  {
   "cell_type": "markdown",
   "id": "c44b6cde",
   "metadata": {},
   "source": [
    "# 4.2 - Importing Libraries and Python Data Types"
   ]
  },
  {
   "cell_type": "markdown",
   "id": "e2147be8",
   "metadata": {},
   "source": [
    "### Table of Contents\n",
    "\n",
    "* [Importing Libraries](#import_libraries)\n",
    "* [Working with Python Data Types](#work_python_data_type)"
   ]
  },
  {
   "cell_type": "markdown",
   "id": "a92c0a0d",
   "metadata": {},
   "source": [
    "## Importing Libraries <a class=\"anchor\" id=\"import_libraries\"></a>"
   ]
  },
  {
   "cell_type": "code",
   "execution_count": 1,
   "id": "14827426",
   "metadata": {},
   "outputs": [],
   "source": [
    "# import libraries\n",
    "import pandas as pd\n",
    "import numpy as np\n",
    "import os"
   ]
  },
  {
   "cell_type": "markdown",
   "id": "325a2983",
   "metadata": {},
   "source": [
    "## Working with Python Data Types <a class=\"anchor\" id=\"work_python_data_type\"></a>"
   ]
  },
  {
   "cell_type": "code",
   "execution_count": 19,
   "id": "aa7bf891",
   "metadata": {},
   "outputs": [
    {
     "name": "stdout",
     "output_type": "stream",
     "text": [
      "100\n"
     ]
    }
   ],
   "source": [
    "print(50 + 50)"
   ]
  },
  {
   "cell_type": "code",
   "execution_count": 20,
   "id": "07420aa7",
   "metadata": {},
   "outputs": [
    {
     "name": "stdout",
     "output_type": "stream",
     "text": [
      "100\n"
     ]
    }
   ],
   "source": [
    "print(25+75)"
   ]
  },
  {
   "cell_type": "code",
   "execution_count": 21,
   "id": "1d15ad45",
   "metadata": {},
   "outputs": [
    {
     "name": "stdout",
     "output_type": "stream",
     "text": [
      "100\n"
     ]
    }
   ],
   "source": [
    "print(200 - 100)"
   ]
  },
  {
   "cell_type": "code",
   "execution_count": 22,
   "id": "e9c1c1e1",
   "metadata": {},
   "outputs": [],
   "source": [
    "a = 3.45"
   ]
  },
  {
   "cell_type": "code",
   "execution_count": 23,
   "id": "0c799795",
   "metadata": {},
   "outputs": [],
   "source": [
    "b = 6.56"
   ]
  },
  {
   "cell_type": "code",
   "execution_count": 24,
   "id": "fe16b718",
   "metadata": {},
   "outputs": [
    {
     "name": "stdout",
     "output_type": "stream",
     "text": [
      "0.5259146341463415\n"
     ]
    }
   ],
   "source": [
    "print (a/b)"
   ]
  },
  {
   "cell_type": "code",
   "execution_count": 25,
   "id": "d5d0c668",
   "metadata": {},
   "outputs": [],
   "source": [
    "c = 'Choco'"
   ]
  },
  {
   "cell_type": "code",
   "execution_count": 26,
   "id": "3a614a29",
   "metadata": {},
   "outputs": [],
   "source": [
    "d = 'late'"
   ]
  },
  {
   "cell_type": "code",
   "execution_count": 27,
   "id": "3ee55cd4",
   "metadata": {},
   "outputs": [
    {
     "name": "stdout",
     "output_type": "stream",
     "text": [
      "Chocolate\n"
     ]
    }
   ],
   "source": [
    "print(c+d)"
   ]
  },
  {
   "cell_type": "code",
   "execution_count": 32,
   "id": "02c8e4a3",
   "metadata": {},
   "outputs": [],
   "source": [
    "e = 'My name is Kerim '"
   ]
  },
  {
   "cell_type": "code",
   "execution_count": 30,
   "id": "6f666855",
   "metadata": {},
   "outputs": [],
   "source": [
    "f = \"and it's nice to meet you\""
   ]
  },
  {
   "cell_type": "code",
   "execution_count": 33,
   "id": "d6c928b7",
   "metadata": {},
   "outputs": [
    {
     "name": "stdout",
     "output_type": "stream",
     "text": [
      "My name is Kerim and it's nice to meet you\n"
     ]
    }
   ],
   "source": [
    "print(e+f)"
   ]
  },
  {
   "cell_type": "code",
   "execution_count": 34,
   "id": "d443627d",
   "metadata": {},
   "outputs": [],
   "source": [
    "z = 'Apple'"
   ]
  },
  {
   "cell_type": "code",
   "execution_count": 35,
   "id": "5a34c3fd",
   "metadata": {},
   "outputs": [
    {
     "name": "stdout",
     "output_type": "stream",
     "text": [
      "AppleAppleAppleAppleAppleAppleAppleAppleAppleAppleAppleAppleAppleAppleAppleAppleAppleAppleAppleAppleAppleAppleAppleAppleAppleAppleAppleAppleAppleAppleAppleAppleAppleAppleAppleAppleAppleAppleAppleAppleAppleAppleAppleAppleAppleAppleAppleAppleAppleAppleAppleAppleAppleAppleAppleAppleAppleAppleAppleAppleAppleAppleAppleAppleAppleAppleAppleAppleAppleAppleAppleAppleAppleAppleAppleAppleAppleAppleAppleAppleAppleAppleAppleAppleAppleAppleAppleAppleAppleAppleAppleAppleAppleAppleAppleAppleAppleAppleAppleApple\n"
     ]
    }
   ],
   "source": [
    "print(z*100)"
   ]
  },
  {
   "cell_type": "code",
   "execution_count": null,
   "id": "225b6d48",
   "metadata": {},
   "outputs": [],
   "source": []
  }
 ],
 "metadata": {
  "kernelspec": {
   "display_name": "Python 3",
   "language": "python",
   "name": "python3"
  },
  "language_info": {
   "codemirror_mode": {
    "name": "ipython",
    "version": 3
   },
   "file_extension": ".py",
   "mimetype": "text/x-python",
   "name": "python",
   "nbconvert_exporter": "python",
   "pygments_lexer": "ipython3",
   "version": "3.8.8"
  }
 },
 "nbformat": 4,
 "nbformat_minor": 5
}
